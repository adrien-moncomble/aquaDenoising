{
 "cells": [
  {
   "cell_type": "markdown",
   "id": "ba16e3f3-01bc-42dc-aadf-cbf4732765be",
   "metadata": {},
   "source": [
    "# Testing PDHM-Net\n",
    "\n",
    "This notebook is meant to test the performances of the different PDHM-Net Trainings.\n",
    "It allows one to evaluate the SSIM and PSNR score of simulated images and to denoise experimental images using different methods."
   ]
  },
  {
   "cell_type": "code",
   "execution_count": null,
   "id": "bb7f3969-31a9-4cd0-a844-c950c8bb4a66",
   "metadata": {},
   "outputs": [],
   "source": [
    "import os\n",
    "import sys\n",
    "import numpy as np\n",
    "import matplotlib.pyplot as plt\n",
    "from PIL import Image\n",
    "\n",
    "from tensorflow.keras.layers import Input\n",
    "from tensorflow.keras.optimizers import Adam\n",
    "\n",
    "### Enter the location of your aquaDenoising folder containing the general_functions folder\n",
    "sys.path.append(\"path/to/aquaDenoising/\")\n",
    "\n",
    "from general_functions.neural_networks.norm_patch import robustnorm, evenpatch, evenreconstruct, randompatch, randomreconstruct\n",
    "from general_functions.neural_networks.architectures import model_pdhmnet\n",
    "from general_functions.neural_networks.metrics import ssimsmape_loss, ssim, psnr"
   ]
  },
  {
   "cell_type": "markdown",
   "id": "d792164f-ad78-4209-8a9a-245e7920f4dd",
   "metadata": {},
   "source": [
    "## Load Neural Network Model"
   ]
  },
  {
   "cell_type": "code",
   "execution_count": null,
   "id": "5a5ed7f1-b583-4d30-b925-71f0466e9cc9",
   "metadata": {},
   "outputs": [],
   "source": [
    "### Choose Training\n",
    "\n",
    "TRAINING_NB = \"01\"\n",
    "PATCH_SIZE = 128\n",
    "\n",
    "### - - - - - - - - \n",
    "\n",
    "input_img = Input((PATCH_SIZE, PATCH_SIZE, 1), name='img')\n",
    "\n",
    "model = model_pdhmnet(input_img, 1, [64,64,64,64,64], dropout=0.05) # Build PDHM-Net\n",
    "\n",
    "loss = {\"output_denoised\":ssimsmape_loss} # Choose the loss function\n",
    "\n",
    "model.compile(optimizer=Adam(), loss=loss, metrics= [\"accuracy\", ssim, psnr])\n",
    "model.load_weights(f\"DATA/PDHMNet/saved_models/Training{TRAINING_NB}/model_vloss_min.h5\")"
   ]
  },
  {
   "cell_type": "code",
   "execution_count": null,
   "id": "4c492b8a-be45-43dc-81b8-b8de283e4e9d",
   "metadata": {},
   "outputs": [],
   "source": [
    "# ## To generate PLugIM files\n",
    "# import tf2onnx\n",
    "# import onnx\n",
    "\n",
    "# onnx_model, _ = tf2onnx.convert.from_keras(model)\n",
    "# onnx.save(onnx_model, f\"DATA/PDHMNet/saved_models/Training{TRAINING_NB}/model_vloss_min.onnx\")\n",
    "\n",
    "# file = open(f\"DATA/PDHMNet/saved_models/Training{TRAINING_NB}/model_vloss_min.onnx\", \"wb\")\n",
    "# file.write(onnx_model.SerializeToString())\n",
    "# file.close()"
   ]
  },
  {
   "cell_type": "markdown",
   "id": "daf6fec3-ef3d-41a7-9b09-6d39dbf4a077",
   "metadata": {},
   "source": [
    "## Denoising images"
   ]
  },
  {
   "cell_type": "code",
   "execution_count": null,
   "id": "a329ae75-67eb-472c-84f2-d23fa7e49c55",
   "metadata": {},
   "outputs": [],
   "source": [
    "%%time\n",
    "\n",
    "### Denoising Parameters\n",
    "\n",
    "BATCH_SIZE = 8\n",
    "\n",
    "# Evenly Distributed Patches \n",
    "STEP = 16\n",
    "BORDER = 30\n",
    "\n",
    "# Randomly Distributed Patches\n",
    "NB_PATCH = 1024*4\n",
    "\n",
    "### - - - - - - - - - - -\n",
    "\n",
    "for IMG_NB in range(1,100)\n",
    "    \n",
    "    ### Simulated images\n",
    "\n",
    "    # loc_img = f\"location/simulated/images_{IMG_NB}\"\n",
    "    \n",
    "    ### Experimental images\n",
    "    \n",
    "    loc_img = f\"location/experimental/images_{IMG_NB}\"\n",
    "\n",
    "\n",
    "    try:\n",
    "        img_in = Image.open(loc_img)\n",
    "    except FileNotFoundError:\n",
    "        break        \n",
    "    img_in = np.array(img_in, dtype=\"float32\")\n",
    "\n",
    "    img_norm = robustnorm(img_in, 0.01)\n",
    "    \n",
    "    # patches, x_patches, y_patches = randompatch(img_norm, NB_PATCH, patch_size=PATCH_SIZE, seed=0)\n",
    "    patches = evenpatch(img_norm, patch_size=PATCH_SIZE, step=STEP)\n",
    "    \n",
    "    pred_patch = model.predict(patches, batch_size=BATCH_SIZE)\n",
    "    \n",
    "    # img_out = randomreconstruct(img_in, pred_patch, x_patches, y_patches, border=BORDER)\n",
    "    img_out = evenreconstruct(img_in, pred_patch, step=STEP, border=BORDER)\n",
    "\n",
    "\n",
    "    tif_img = Image.fromarray(img_out)\n",
    "    tif_img.save(f\"location/denoised/images_{IMG_NB}.tif\")\n",
    "\n",
    "    tif_crop = Image.fromarray(img_out[BORDER:-BORDER, BORDER:-BORDER])\n",
    "    tif_crop.save(f\"location/denoised/cropped/images_{IMG_NB}.tif\")"
   ]
  },
  {
   "cell_type": "code",
   "execution_count": null,
   "id": "aaa215b4",
   "metadata": {},
   "outputs": [],
   "source": [
    "IMG_ID = 0\n",
    "\n",
    "### Experimental Images\n",
    "loc_img = f\"location/experimental/images_{IMG_ID}\"\n",
    "\n",
    "try:\n",
    "    img_in = Image.open(loc_img)\n",
    "except FileNotFoundError:\n",
    "    break        \n",
    "img_in = np.array(img_in, dtype=\"float32\")\n",
    "\n",
    "### Denoised Images\n",
    "\n",
    "tif_img = np.load(f\"location/denoised/images_{IMG_ID}.tif\")\n",
    "\n",
    "### - - - - - - - - \n",
    "\n",
    "fig, ax = plt.subplots(1, 2, dpi=300)\n",
    "\n",
    "ax[0].imshow(img_in[IMG_ID])\n",
    "ax[1].imshow(tif_img[IMG_ID])\n",
    "\n",
    "ax[0].set_title(\"Simulated Noisy Image\")\n",
    "ax[1].set_title(\"PDHM-Net Denoised Image\")"
   ]
  },
  {
   "cell_type": "markdown",
   "id": "6df3f656-fe12-4c6f-bfb3-24a3ae2a2f1d",
   "metadata": {},
   "source": [
    "## Evaluate the PSNR and SSIM of the denoisied simulated images"
   ]
  },
  {
   "cell_type": "code",
   "execution_count": null,
   "id": "edec8316-7f9d-4aa8-99fb-4de1a5232e76",
   "metadata": {},
   "outputs": [],
   "source": [
    "### Choose Training\n",
    "\n",
    "TRAINING_NB = \"01\"\n",
    "BORDER = 30\n",
    "\n",
    "### - - - - - - - - \n",
    "\n",
    "img_list = []\n",
    "ref_list = []\n",
    "\n",
    "for IMG_NB in range(3):\n",
    "    img = Image.open(f\"location/denoised/images_{IMG_NB}\")\n",
    "    img_list.append(np.array(img, dtype=\"float32\")[BORDER:-BORDER,BORDER:-BORDER])\n",
    "\n",
    "    ref = Image.open(f\"location/simulated/noiseless/images_{IMG_NB}\")\n",
    "    ref_list.append(robustnorm(np.array(ref, dtype=\"float32\"), 0)[BORDER:-BORDER,BORDER:-BORDER])\n",
    "\n",
    "img_arr = np.expand_dims(np.array(img_list), axis=-1)\n",
    "ref_arr = np.expand_dims(np.array(ref_list), axis=-1)"
   ]
  },
  {
   "cell_type": "code",
   "execution_count": null,
   "id": "40b00c97",
   "metadata": {},
   "outputs": [],
   "source": [
    "IMG_ID = 0\n",
    "\n",
    "fig, ax = plt.subplots(1, 2, dpi=300)\n",
    "\n",
    "ax[0].imshow(img_list[IMG_ID])\n",
    "ax[1].imshow(ref_list[IMG_ID])\n",
    "\n",
    "ax[0].set_title(\"PDHM-Net Denoised Image\")\n",
    "ax[1].set_title(\"Simulated Noiseless Image\")"
   ]
  }
 ],
 "metadata": {
  "kernelspec": {
   "display_name": "Python310",
   "language": "python",
   "name": "python3"
  },
  "language_info": {
   "codemirror_mode": {
    "name": "ipython",
    "version": 3
   },
   "file_extension": ".py",
   "mimetype": "text/x-python",
   "name": "python",
   "nbconvert_exporter": "python",
   "pygments_lexer": "ipython3",
   "version": "3.10.12"
  }
 },
 "nbformat": 4,
 "nbformat_minor": 5
}
