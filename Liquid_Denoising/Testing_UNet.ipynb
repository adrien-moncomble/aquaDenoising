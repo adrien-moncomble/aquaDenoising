{
 "cells": [
  {
   "cell_type": "markdown",
   "id": "715a6f90-76d3-4ad9-9ee1-0c2d275d301f",
   "metadata": {},
   "source": [
    "# Testing U-Net\n",
    "\n",
    "This notebook is meant to test the performances of the different U-Net Trainings.\n",
    "It allows one to evaluate the SSIM and PSNR score of simulated images and to denoise experimental images using different methods."
   ]
  },
  {
   "cell_type": "code",
   "execution_count": null,
   "id": "4767b368-b827-4cc6-a248-5cd59093ffb9",
   "metadata": {},
   "outputs": [],
   "source": [
    "import os\n",
    "import sys\n",
    "import numpy as np\n",
    "import matplotlib.pyplot as plt\n",
    "from PIL import Image\n",
    "\n",
    "from tensorflow.keras.layers import Input\n",
    "from tensorflow.keras.optimizers import Adam\n",
    "\n",
    "### Enter the location of your aquaDenoising folder containing the general_functions folder\n",
    "sys.path.append(\"path/to/aquaDenoising/\")\n",
    "\n",
    "from general_functions.neural_networks.norm_patch import robustnorm, evenpatch, evenreconstruct, randompatch, randomreconstruct\n",
    "from general_functions.neural_networks.architectures import model_unet\n",
    "from general_functions.neural_networks.metrics import ssimsmape_loss, ssim, psnr"
   ]
  },
  {
   "cell_type": "markdown",
   "id": "06fb82a0-f483-4ae4-beda-2252d58f5f90",
   "metadata": {},
   "source": [
    "## Load Neural Network Model"
   ]
  },
  {
   "cell_type": "code",
   "execution_count": null,
   "id": "e526e0c0-6d41-4ce6-88d3-2a3972adfddd",
   "metadata": {},
   "outputs": [],
   "source": [
    "### Choose Training\n",
    "\n",
    "TRAINING_NB = \"01\"\n",
    "PATCH_SIZE = 128\n",
    "\n",
    "### - - - - - - - - \n",
    "\n",
    "input_img = Input((PATCH_SIZE, PATCH_SIZE, 1), name='img')\n",
    "\n",
    "model = model_unet(input_img, 1, n_filters=8, layers_repetition=2, dropout=0.05) # Build UNet\n",
    "\n",
    "loss = {\"output_denoised\":ssimsmape_loss} # Choose the loss function\n",
    "\n",
    "model.compile(optimizer=Adam(), loss=loss, metrics= [\"accuracy\", ssim, psnr])\n",
    "model.load_weights(f\"DATA/UNet/saved_models/Training{TRAINING_NB}/model_vloss_min.h5\")"
   ]
  },
  {
   "cell_type": "code",
   "execution_count": null,
   "id": "3315ab3d-a36c-487f-bb14-0a538d7b80a4",
   "metadata": {},
   "outputs": [],
   "source": [
    "# ## To generate PLugIM files\n",
    "# import tf2onnx\n",
    "# import onnx\n",
    "\n",
    "# onnx_model, _ = tf2onnx.convert.from_keras(model)\n",
    "# onnx.save(onnx_model, f\"DATA/UNet/saved_models/Training{TRAINING_NB}/model_vloss_min.onnx\")\n",
    "\n",
    "# file = open(f\"DATA/UNet/saved_models/Training{TRAINING_NB}/model_vloss_min.onnx\", \"wb\")\n",
    "# file.write(onnx_model.SerializeToString())\n",
    "# file.close()"
   ]
  },
  {
   "cell_type": "markdown",
   "id": "b2871ff4-5402-4994-aa25-26b2efa742b3",
   "metadata": {},
   "source": [
    "## Denoising images"
   ]
  },
  {
   "cell_type": "code",
   "execution_count": null,
   "id": "2c2dcdb2-9643-4859-b1c9-fe504ebfa41c",
   "metadata": {},
   "outputs": [],
   "source": [
    "%%time\n",
    "\n",
    "### Denoising Parameters\n",
    "\n",
    "BATCH_SIZE = 8\n",
    "\n",
    "# Evenly Distributed Patches \n",
    "STEP = 16\n",
    "BORDER = 30\n",
    "\n",
    "# Randomly Distributed Patches\n",
    "NB_PATCH = 1024*4\n",
    "\n",
    "### - - - - - - - - - - -\n",
    "\n",
    "for IMG_NB in range(1,100)\n",
    "    \n",
    "    ### Simulated images\n",
    "\n",
    "    # loc_img = f\"location/simulated/images_{IMG_NB}\"\n",
    "    \n",
    "    ### Experimental images\n",
    "    \n",
    "    loc_img = f\"location/experimental/images_{IMG_NB}\"\n",
    "\n",
    "\n",
    "    try:\n",
    "        img_in = Image.open(loc_img)\n",
    "    except FileNotFoundError:\n",
    "        break        \n",
    "    img_in = np.array(img_in, dtype=\"float32\")\n",
    "\n",
    "    img_norm = robustnorm(img_in, 0.01)\n",
    "    \n",
    "    # patches, x_patches, y_patches = randompatch(img_norm, NB_PATCH, patch_size=PATCH_SIZE, seed=0)\n",
    "    patches = evenpatch(img_norm, patch_size=PATCH_SIZE, step=STEP)\n",
    "    \n",
    "    pred_patch = model.predict(patches, batch_size=BATCH_SIZE)\n",
    "    \n",
    "    # img_out = randomreconstruct(img_in, pred_patch, x_patches, y_patches, border=BORDER)\n",
    "    img_out = evenreconstruct(img_in, pred_patch, step=STEP, border=BORDER)\n",
    "\n",
    "\n",
    "    tif_img = Image.fromarray(img_out)\n",
    "    tif_img.save(f\"location/denoised/images_{IMG_NB}.tif\")\n",
    "\n",
    "    tif_crop = Image.fromarray(img_out[BORDER:-BORDER, BORDER:-BORDER])\n",
    "    tif_crop.save(f\"location/denoised/cropped/images_{IMG_NB}.tif\")"
   ]
  },
  {
   "cell_type": "code",
   "execution_count": null,
   "id": "cf33f4fd",
   "metadata": {},
   "outputs": [],
   "source": [
    "IMG_ID = 0\n",
    "\n",
    "### Experimental Images\n",
    "loc_img = f\"location/experimental/images_{IMG_ID}\"\n",
    "\n",
    "try:\n",
    "    img_in = Image.open(loc_img)\n",
    "except FileNotFoundError:\n",
    "    break        \n",
    "img_in = np.array(img_in, dtype=\"float32\")\n",
    "\n",
    "### Denoised Images\n",
    "\n",
    "tif_img = np.load(f\"location/denoised/images_{IMG_ID}.tif\")\n",
    "\n",
    "### - - - - - - - - \n",
    "\n",
    "fig, ax = plt.subplots(1, 2, dpi=300)\n",
    "\n",
    "ax[0].imshow(img_in[IMG_ID])\n",
    "ax[1].imshow(tif_img[IMG_ID])\n",
    "\n",
    "ax[0].set_title(\"Simulated Noisy Image\")\n",
    "ax[1].set_title(\"UNet Denoised Image\")"
   ]
  },
  {
   "cell_type": "markdown",
   "id": "b6f79377-cb33-4993-845c-f9c57a6df794",
   "metadata": {},
   "source": [
    "## Evaluate the PSNR and SSIM of the denoisied simulated images"
   ]
  },
  {
   "cell_type": "code",
   "execution_count": null,
   "id": "85fc5596-6a52-433e-b08a-fe23501cf2c6",
   "metadata": {},
   "outputs": [],
   "source": [
    "### Choose Training\n",
    "\n",
    "TRAINING_NB = \"01\"\n",
    "BORDER = 30\n",
    "\n",
    "### - - - - - - - - \n",
    "\n",
    "img_list = []\n",
    "ref_list = []\n",
    "\n",
    "for IMG_NB in range(3):\n",
    "    img = Image.open(f\"location/denoised/images_{IMG_NB}\")\n",
    "    img_list.append(np.array(img, dtype=\"float32\")[BORDER:-BORDER,BORDER:-BORDER])\n",
    "\n",
    "    ref = Image.open(f\"location/simulated/noiseless/images_{IMG_NB}\")\n",
    "    ref_list.append(robustnorm(np.array(ref, dtype=\"float32\"), 0)[BORDER:-BORDER,BORDER:-BORDER])\n",
    "\n",
    "img_arr = np.expand_dims(np.array(img_list), axis=-1)\n",
    "ref_arr = np.expand_dims(np.array(ref_list), axis=-1)"
   ]
  },
  {
   "cell_type": "code",
   "execution_count": null,
   "id": "1f58b942-6187-454d-9f10-7b038be336db",
   "metadata": {},
   "outputs": [],
   "source": [
    "IMG_ID = 0\n",
    "\n",
    "fig, ax = plt.subplots(1, 2, dpi=300)\n",
    "\n",
    "ax[0].imshow(img_list[IMG_ID])\n",
    "ax[1].imshow(ref_list[IMG_ID])\n",
    "\n",
    "ax[0].set_title(\"UNet Denoised Image\")\n",
    "ax[1].set_title(\"Simulated Noiseless Image\")"
   ]
  }
 ],
 "metadata": {
  "kernelspec": {
   "display_name": "Python 3 (ipykernel)",
   "language": "python",
   "name": "python3"
  },
  "language_info": {
   "codemirror_mode": {
    "name": "ipython",
    "version": 3
   },
   "file_extension": ".py",
   "mimetype": "text/x-python",
   "name": "python",
   "nbconvert_exporter": "python",
   "pygments_lexer": "ipython3",
   "version": "3.9.18"
  }
 },
 "nbformat": 4,
 "nbformat_minor": 5
}
